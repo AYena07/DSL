{
  "nbformat": 4,
  "nbformat_minor": 0,
  "metadata": {
    "colab": {
      "name": "lab2.ipynb",
      "provenance": [],
      "authorship_tag": "ABX9TyOUxuwsUY4dew1up7z1jeLe",
      "include_colab_link": true
    },
    "kernelspec": {
      "name": "python3",
      "display_name": "Python 3"
    },
    "language_info": {
      "name": "python"
    }
  },
  "cells": [
    {
      "cell_type": "markdown",
      "metadata": {
        "id": "view-in-github",
        "colab_type": "text"
      },
      "source": [
        "<a href=\"https://colab.research.google.com/github/AYena07/DSL/blob/main/lab2.ipynb\" target=\"_parent\"><img src=\"https://colab.research.google.com/assets/colab-badge.svg\" alt=\"Open In Colab\"/></a>"
      ]
    },
    {
      "cell_type": "markdown",
      "metadata": {
        "id": "-Bfx8b-XdOkN"
      },
      "source": [
        "Firstly, here is provided an implementation of function that removes useless(outsider) non-terminal symbols. The algorithm is that we iteratively fill our set of useful non-terminal symbols, which can lead us to sequence, where all symbols are terminal. On each iteration we search for non-terminals that have matching rule to sequence, where all symbols are terminals, or already known useful non-terminals. We stop our iterations after we cannot find new useful non-terminals after whatching through all set of non-terminals."
      ]
    },
    {
      "cell_type": "markdown",
      "metadata": {
        "id": "0lc-G8HQfjKv"
      },
      "source": [
        "The structure of our context free grammar is such that:\n",
        "\n",
        "\n",
        "```\n",
        "{'toks': set(token), 'vars': dict(var: definition), 'hvar': var}\n",
        "token : (class, value)    # for now - it is just terminal symbol\n",
        "class : int\n",
        "value : str\n",
        "var : str                 # name of non-terminal\n",
        "definition : list(rule)\n",
        "rule : list(var | token)  # right part of matching rule \n",
        "```\n",
        "\n"
      ]
    },
    {
      "cell_type": "code",
      "metadata": {
        "id": "ZnHraZ0abbCi"
      },
      "source": [
        "def remove_all_useless_non_terminals(grammar):\n",
        "\n",
        "  usefull_non_terminals = set()   # In the beggining it's empty set\n",
        "  tokens = grammar['toks']\n",
        "  variables = grammar['vars']\n",
        "  start_non_terminal = grammar['hvar']\n",
        "  found_new_usefull_non_terminal = True # setting true just for entering the loop\n",
        "\n",
        "  while found_new_usefull_non_terminal:\n",
        "    found_new_usefull_non_terminal = False\n",
        "    for non_terminal, definition in variables.items():\n",
        "      if non_terminal not in usefull_non_terminals:\n",
        "        for rule in definition:\n",
        "          # if for all symbols from rule symbol is terminal or useful non terminal\n",
        "          if all(map(lambda symbol: symbol in tokens or symbol in usefull_non_terminals, rule)): \n",
        "            found_new_usefull_non_terminal = True\n",
        "            usefull_non_terminals.add(non_terminal)\n",
        "            break   # we already found out that current symbol is useful, so we don't need to iterate more\n",
        "\n",
        "  # new set of non-terminals. pair[0] is key in key-value pair of dict\n",
        "  new_variables = dict(filter(lambda pair: pair[0] in usefull_non_terminals, variables.items()))\n",
        "\n",
        "  # clearing all rules that have useless non-termials in our grammar\n",
        "  for non_terminal in new_variables.keys():\n",
        "    old_definition = new_variables[non_terminal]\n",
        "    new_variables[non_terminal] = list(\n",
        "        filter(lambda rule: all(\n",
        "            map(lambda symbol: symbol in tokens or symbol in usefull_non_terminals, rule)\n",
        "        ), old_definition)\n",
        "    )\n",
        "  \n",
        "  #removing start non-terminal if it's no longer in new set of non-terminals\n",
        "  if start_non_terminal not in usefull_non_terminals:\n",
        "    start_non_terminal = None\n",
        "\n",
        "  return {'toks': tokens, 'vars': new_variables, 'hvar': start_non_terminal}"
      ],
      "execution_count": 12,
      "outputs": []
    },
    {
      "cell_type": "markdown",
      "metadata": {
        "id": "xK1_boFpJuzI"
      },
      "source": [
        "Next is an implementation of function that removes all expiring non-terminals. The algorithm is very simillar to to the previous one. We iteratively fill set of expiring non-terminals untill it stops growing after passing through all matching rules. We add non-termial to the set if it is not already there and if there is a rule, in right part of which all symbols are in set of expiring non-terminals."
      ]
    },
    {
      "cell_type": "code",
      "metadata": {
        "id": "Hm08dxWYhf9m"
      },
      "source": [
        "def find_all_expiring_non_terminals(grammar):\n",
        "\n",
        "  expiring_non_terminals = set()   # In the beggining it's empty set\n",
        "  tokens = grammar['toks']\n",
        "  variables = grammar['vars']\n",
        "  start_non_terminal = grammar['hvar']\n",
        "  found_new_expiring_non_terminal = True # setting true just for entering the loop\n",
        "\n",
        "  while found_new_expiring_non_terminal:\n",
        "    found_new_expiring_non_terminal = False\n",
        "    for non_terminal, definition in variables.items():\n",
        "      if non_terminal not in expiring_non_terminals:\n",
        "        for rule in definition:\n",
        "          # if for all symbols from rule symbol is expiring\n",
        "          if all(map(lambda symbol: symbol in expiring_non_terminals, rule)): \n",
        "            found_new_expiring_non_terminal = True\n",
        "            expiring_non_terminals.add(non_terminal)\n",
        "            break   # we already found out that current symbol is expiring, so we don't need to iterate more\n",
        "\n",
        "  return expiring_non_terminals"
      ],
      "execution_count": 5,
      "outputs": []
    },
    {
      "cell_type": "markdown",
      "metadata": {
        "id": "ONKjnVteOVRj"
      },
      "source": [
        "Let's provide an example"
      ]
    },
    {
      "cell_type": "code",
      "metadata": {
        "colab": {
          "base_uri": "https://localhost:8080/"
        },
        "id": "EXLb5Qu4Ocm0",
        "outputId": "a1de36d2-6f4d-427b-b1dc-d08a53b2f6cd"
      },
      "source": [
        "import yaml; # for pretty print\n",
        "\n",
        "GRAMMAR = {\n",
        "    'toks': set( [\n",
        "        ('class1', 'a1'), \n",
        "        ('class1', 'a2'), \n",
        "        ('class1', 'a3'), \n",
        "        ('class2', 'b1'), \n",
        "        ('class2', 'b2'), \n",
        "        ('class3', 'c1')\n",
        "    ] ),\n",
        "    'vars': {\n",
        "        'S' : [['N', ('class3', 'c1')], \n",
        "               ['N', 'M'],\n",
        "               ['B', ('class1', 'a3'), 'C'],\n",
        "               ['F', ('class2', 'b1'), ('class1', 'a2')]],\n",
        "        'A' : [[]],\n",
        "        'B' : [['A']],\n",
        "        'C' : [['B']],\n",
        "        'N' : [['M']],\n",
        "        'M' : [['N']],\n",
        "        'F' : [[('class1', 'a3'), ('class2', 'b1'), ('class2', 'b2'), ('class3', 'c1')]]\n",
        "    },\n",
        "    'hvar': 'S'\n",
        "}\n",
        "\n",
        "\n",
        "NEW_GRAMMAR = remove_all_useless_non_terminals(GRAMMAR)\n",
        "toks = NEW_GRAMMAR['toks']\n",
        "del NEW_GRAMMAR['toks'] # set is not serializable\n",
        "print(json.dumps(NEW_GRAMMAR, sort_keys=True, indent=4))\n",
        "NEW_GRAMMAR['toks'] = toks\n",
        "EXPIRING_NON_TERMINALS = find_all_expiring_non_terminals(NEW_GRAMMAR)\n",
        "print(list(EXPIRING_NON_TERMINALS))"
      ],
      "execution_count": 22,
      "outputs": [
        {
          "output_type": "stream",
          "name": "stdout",
          "text": [
            "{\n",
            "    \"hvar\": \"S\",\n",
            "    \"vars\": {\n",
            "        \"A\": [\n",
            "            []\n",
            "        ],\n",
            "        \"B\": [\n",
            "            [\n",
            "                \"A\"\n",
            "            ]\n",
            "        ],\n",
            "        \"C\": [\n",
            "            [\n",
            "                \"B\"\n",
            "            ]\n",
            "        ],\n",
            "        \"F\": [\n",
            "            [\n",
            "                [\n",
            "                    \"class1\",\n",
            "                    \"a3\"\n",
            "                ],\n",
            "                [\n",
            "                    \"class2\",\n",
            "                    \"b1\"\n",
            "                ],\n",
            "                [\n",
            "                    \"class2\",\n",
            "                    \"b2\"\n",
            "                ],\n",
            "                [\n",
            "                    \"class3\",\n",
            "                    \"c1\"\n",
            "                ]\n",
            "            ]\n",
            "        ],\n",
            "        \"S\": [\n",
            "            [\n",
            "                \"B\",\n",
            "                [\n",
            "                    \"class1\",\n",
            "                    \"a3\"\n",
            "                ],\n",
            "                \"C\"\n",
            "            ],\n",
            "            [\n",
            "                \"F\",\n",
            "                [\n",
            "                    \"class2\",\n",
            "                    \"b1\"\n",
            "                ],\n",
            "                [\n",
            "                    \"class1\",\n",
            "                    \"a2\"\n",
            "                ]\n",
            "            ]\n",
            "        ]\n",
            "    }\n",
            "}\n",
            "['C', 'B', 'A']\n"
          ]
        }
      ]
    }
  ]
}