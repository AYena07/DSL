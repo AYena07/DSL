{
  "nbformat": 4,
  "nbformat_minor": 0,
  "metadata": {
    "colab": {
      "name": "lab1.ipynb",
      "provenance": [],
      "authorship_tag": "ABX9TyPmOvOn7LFYlEeArASsxwVn",
      "include_colab_link": true
    },
    "kernelspec": {
      "name": "python3",
      "display_name": "Python 3"
    },
    "language_info": {
      "name": "python"
    }
  },
  "cells": [
    {
      "cell_type": "markdown",
      "metadata": {
        "id": "view-in-github",
        "colab_type": "text"
      },
      "source": [
        "<a href=\"https://colab.research.google.com/github/AYena07/DSL/blob/main/lab1.ipynb\" target=\"_parent\"><img src=\"https://colab.research.google.com/assets/colab-badge.svg\" alt=\"Open In Colab\"/></a>"
      ]
    },
    {
      "cell_type": "markdown",
      "metadata": {
        "id": "MFp_qbD5GY1K"
      },
      "source": [
        "In first block I explain helper function, and in second - the actual function that splits text into rows"
      ]
    },
    {
      "cell_type": "markdown",
      "metadata": {
        "id": "YSFnDWEJ-L6v"
      },
      "source": [
        "`reduce_step` is function that takes 2 arguments, where first argument is *accumulator*, in which we store current state of collecting separate rows and *current chararacter* from string. Accumulator contains set of whitespaces, current list of rows and last word, which is not in list of rows. On each step of `reduce` (which is basically `foldLeft`), we check if our character is whitespace, or not. If it is not - we just add it to end of our currently formed word. If it is - we add collected word to rows if it is not empty(which means that previous character was also whitespace or current character is first in text). Function returns new value of accumulor, which will be applied to next iteration of `reduce`, or will be returned as result of `reduce` if currect character was last."
      ]
    },
    {
      "cell_type": "code",
      "metadata": {
        "id": "OFRWs730-JnZ"
      },
      "source": [
        "def reduce_step(accumulator: (set, list, str), current_char: str) -> (set, list, str):\n",
        "  whitespaces, rows, current_word = accumulator\n",
        "  if current_char in whitespaces:\n",
        "    if current_word:\n",
        "      return (whitespaces, rows + [current_word], '')\n",
        "    else:\n",
        "      return (whitespaces, rows, '')\n",
        "  else:\n",
        "    return (whitespaces, rows, current_word + current_char)"
      ],
      "execution_count": 2,
      "outputs": []
    },
    {
      "cell_type": "markdown",
      "metadata": {
        "id": "NAyUSwl6Bfor"
      },
      "source": [
        "`split_text` is function that applies our previous `reduce_step` subsequently to each character of text, passing calculated on previous step accumulator and current character. After last iteration we get list of rows, last word and whitespaces, which are constant, so we just skip it. If last word is not empty, we add it to rows and return them. Before first step, we set base accumulator value as set of whitespaces, empty *rows* and empty *last word*."
      ]
    },
    {
      "cell_type": "code",
      "metadata": {
        "id": "05lbcSQEBdQm"
      },
      "source": [
        "from functools import reduce\n",
        "\n",
        "def split_text(text: str, whitespaces: set) -> str:\n",
        "  _, rows, last_word = reduce(reduce_step, text, (whitespaces, [], ''))\n",
        "  if last_word:\n",
        "    rows.append(last_word)\n",
        "  return rows"
      ],
      "execution_count": 6,
      "outputs": []
    },
    {
      "cell_type": "markdown",
      "metadata": {
        "id": "Q4pATs0FCR7-"
      },
      "source": [
        "Here is example of work of our function"
      ]
    },
    {
      "cell_type": "code",
      "metadata": {
        "colab": {
          "base_uri": "https://localhost:8080/"
        },
        "id": "9AJ9fYZ0CReN",
        "outputId": "2326a3f0-7dae-467c-9d3e-8bd4e08bcbaf"
      },
      "source": [
        "WHITESPACES = {' ', '\\t', '\\n'}\n",
        "\n",
        "TEXT = 'This is   example\\t \\n of\\t\\t\\ttext   \\n   with whitespaces \\n \\t'\n",
        "\n",
        "print(split_text(TEXT, WHITESPACES))"
      ],
      "execution_count": 7,
      "outputs": [
        {
          "output_type": "stream",
          "name": "stdout",
          "text": [
            "['This', 'is', 'example', 'of', 'text', 'with', 'whitespaces']\n"
          ]
        }
      ]
    }
  ]
}