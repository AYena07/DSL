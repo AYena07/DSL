{
  "nbformat": 4,
  "nbformat_minor": 0,
  "metadata": {
    "colab": {
      "name": "lab3.ipynb",
      "provenance": [],
      "authorship_tag": "ABX9TyOa829r6WuUjYP1KOmwl73P",
      "include_colab_link": true
    },
    "kernelspec": {
      "name": "python3",
      "display_name": "Python 3"
    },
    "language_info": {
      "name": "python"
    }
  },
  "cells": [
    {
      "cell_type": "markdown",
      "metadata": {
        "id": "view-in-github",
        "colab_type": "text"
      },
      "source": [
        "<a href=\"https://colab.research.google.com/github/AYena07/DSL/blob/main/lab3.ipynb\" target=\"_parent\"><img src=\"https://colab.research.google.com/assets/colab-badge.svg\" alt=\"Open In Colab\"/></a>"
      ]
    },
    {
      "cell_type": "markdown",
      "metadata": {
        "id": "OzsBSmyVWgOy"
      },
      "source": [
        "FIRST function returns set of terminals that can be deducted from non-terminal that we passed to it. Using that fact that we removed left recurtion from our grammar, we can easily implement this function recurcevely, because there is an evidence that we will not stuck in infinite loop. So if we got non-terminal A, we start to iterate throug rules in which left site has only A and if first symbol of rule is terminal h - we simply add it to set. If it is non-terminal B - we get FIRST(B). If it contains '' then we do same operations on next symbol of rule and add FIRST(B) \\ {''} to our answer set. If we got to the end of rule and FIRST(last) contains '', then answer will also contain ''.\n",
        "\n",
        "I will implement function `form_all_first` that takes grammar and returns dict where keys are all non-terminals and values are resutls of applying FIRST to them"
      ]
    },
    {
      "cell_type": "code",
      "metadata": {
        "id": "bAhFxRvzV5L4"
      },
      "source": [
        "def form_all_firsts(G: dict) -> dict:\n",
        "  result_dict = {}  # will be filled and returned\n",
        "  tokens = G['toks']\n",
        "  variables = G['vars']\n",
        "\n",
        "  def first(non_terminal: str) -> set:\n",
        "    definition = variables[non_terminal]\n",
        "    answer_set = set()  # result set of first function\n",
        "    has_epsilon = False\n",
        "    for rule in definition:\n",
        "      if not len(rule):     # case when non-terminal is expiring\n",
        "        has_epsilon = True\n",
        "        continue\n",
        "      for index, symbol in enumerate(rule):\n",
        "        if symbol in tokens:  # case when first symbol is terminal\n",
        "          answer_set.add(symbol)\n",
        "          break\n",
        "        else:                 # case when first symbol is no-terminal\n",
        "          if symbol in result_dict:  # we don't need to calculate FIRST if it is already calculated\n",
        "            firsts_for_another = result_dict[symbol]\n",
        "            answer_set = set.union(answer_set, firsts_for_another)\n",
        "          else: # calculating, caching and adding result of FIRST function\n",
        "            firsts_for_another = first(symbol)\n",
        "            result_dict[symbol] = firsts_for_another\n",
        "            answer_set = set.union(answer_set, firsts_for_another)\n",
        "          if '' not in firsts_for_another:\n",
        "            break\n",
        "          elif index == len(rule) - 1:\n",
        "            has_epsilon = True\n",
        "    \n",
        "    if has_epsilon:\n",
        "      answer_set.add('')\n",
        "    elif '' in answer_set:\n",
        "      answer_set.remove('')\n",
        "    \n",
        "    return answer_set\n",
        "\n",
        "  for non_terminal in variables.keys():\n",
        "    # calculate only if it is not already calculated inside call of FIRST\n",
        "    if non_terminal not in result_dict:\n",
        "      result_dict[non_terminal] = first(non_terminal)\n",
        "\n",
        "  return result_dict"
      ],
      "execution_count": 26,
      "outputs": []
    },
    {
      "cell_type": "markdown",
      "metadata": {
        "id": "9GwxC_BrfGeg"
      },
      "source": [
        "Next is FOLLOW function. The algorithm calculates all terminal symbols that can appear after non-terminal in sentecial dedduction. It calculates once for all, so our function would take grammar and return dict for every non-terminal. \n",
        "Starting, we set `follow_dict[S] = {$}`, where $ is the end of input.\n",
        "For every rule if A -> aB then put follow(A) in follow(B). if A -> aBb then put first(b) in follow(A), where first(seq) is all terminals that can start a word deducted from seq. We repeat these actions in loop because follow sets could change on each iteration, so we repeat this until after passing all rules dict remained unchanged."
      ]
    },
    {
      "cell_type": "code",
      "metadata": {
        "id": "c_3uMnEqbp3M"
      },
      "source": [
        "def first_for_sequence(first_dict: dict, seq: str, tokens: set):\n",
        "  answer = set()  #result set\n",
        "  for symbol in seq:\n",
        "    if symbol in tokens:  # no sence to continue\n",
        "      answer.add(symbol)\n",
        "      return answer\n",
        "    else:\n",
        "      answer = set.union(answer, first_dict[symbol])\n",
        "      if '' not in first_dict[symbol]:\n",
        "        return answer\n",
        "      else:\n",
        "        answer.remove('') # epsilon is not yet in first\n",
        "  answer.add('')  # if all symbols ->> epsilon, seq ->> epsilon\n",
        "  return answer\n",
        "\n",
        "def form_all_follow(G: dict) -> dict:\n",
        "  result_dict = {}  # will be filled and returned\n",
        "  tokens = G['toks']\n",
        "  variables = G['vars']\n",
        "  hvar = G['hvar']\n",
        "  updated = True\n",
        "  epsilon = ''\n",
        "  first_dict = form_all_firsts(G)\n",
        "\n",
        "  for non_terminal in variables.keys():\n",
        "    result_dict[non_terminal] = set()\n",
        "\n",
        "  result_dict[hvar] = set()\n",
        "  result_dict[hvar].add('$')\n",
        "  while updated:\n",
        "    updated = False\n",
        "    for non_terminal, definition in variables.items():\n",
        "      for rule in definition:\n",
        "        for index, symbol in enumerate(rule):\n",
        "          if symbol not in tokens:\n",
        "            first_set = first_for_sequence(first_dict, rule[index + 1:], tokens)\n",
        "            prev_size = len(result_dict[symbol])\n",
        "            if epsilon in first_set:\n",
        "              first_set.remove(epsilon)\n",
        "              result_dict[symbol] = set.union(result_dict[symbol], first_set)\n",
        "              result_dict[symbol] = set.union(result_dict[symbol], result_dict[non_terminal])\n",
        "            else:\n",
        "              result_dict[symbol] = set.union(result_dict[symbol], first_set)\n",
        "            new_size = len(result_dict[symbol])\n",
        "            if new_size != prev_size:\n",
        "              updated = True\n",
        "  \n",
        "  return result_dict\n"
      ],
      "execution_count": 19,
      "outputs": []
    },
    {
      "cell_type": "markdown",
      "metadata": {
        "id": "FfTHtbXuUe1I"
      },
      "source": [
        "Some Examples"
      ]
    },
    {
      "cell_type": "code",
      "metadata": {
        "colab": {
          "base_uri": "https://localhost:8080/"
        },
        "id": "iO8HKpc_Lfcn",
        "outputId": "18034bb2-7393-4272-962e-57892ac68d51"
      },
      "source": [
        "import json\n",
        "'''\n",
        "E  -> TR\n",
        "R  -> +T R| e\n",
        "T  -> F Y\n",
        "Y  -> *F Y | e\n",
        "F  -> (E) | i\n",
        "\n",
        "\n",
        "Output :\n",
        "First(E)= { (, i, }\n",
        "First(R)= { +, e, }\n",
        "First(T)= { (, i, }\n",
        "First(Y)= { *, e, }\n",
        "First(F)= { (, i, }\n",
        "\n",
        "-----------------------------------------------\n",
        "\n",
        "Follow(E) = { $, ),  }\n",
        "Follow(R) = { $, ),  }\n",
        "Follow(T) = { +, $, ),  }\n",
        "Follow(Y) = { +, $, ),  }\n",
        "Follow(F) = { *, +, $, ),  }\n",
        "'''\n",
        "\n",
        "GRAMMAR = {\n",
        "    'toks': set( [\n",
        "        ('bracket', '('), \n",
        "        ('bracket', ')'), \n",
        "        ('plus', '+'), \n",
        "        ('multiply', '*'),\n",
        "        ('id', 'i')\n",
        "    ] ),\n",
        "    'vars': {\n",
        "        'E' : [['T', 'R']],\n",
        "        'R' : [[('plus', '+'), 'T', 'R'],\n",
        "               []],\n",
        "        'T' : [['F', 'Y']],\n",
        "        'Y' : [[('multiply', '*'), 'F', 'Y'],\n",
        "               []],\n",
        "        'F' : [[('bracket', '('), 'E', ('bracket', ')')],\n",
        "               [('id', 'i')]]\n",
        "    },\n",
        "    'hvar': 'E'\n",
        "}\n",
        "first_dict = form_all_firsts(GRAMMAR)\n",
        "for key in first_dict.keys():\n",
        "  first_dict[key] = list(first_dict[key])\n",
        "follow_dict = form_all_follow(GRAMMAR)\n",
        "for key in follow_dict.keys():\n",
        "  follow_dict[key] = list(follow_dict[key])\n",
        "print(json.dumps(follow_dict, sort_keys=True, indent=2))"
      ],
      "execution_count": 28,
      "outputs": [
        {
          "output_type": "stream",
          "name": "stdout",
          "text": [
            "{\n",
            "  \"E\": [\n",
            "    \"$\",\n",
            "    [\n",
            "      \"bracket\",\n",
            "      \")\"\n",
            "    ]\n",
            "  ],\n",
            "  \"F\": [\n",
            "    [\n",
            "      \"bracket\",\n",
            "      \")\"\n",
            "    ],\n",
            "    [\n",
            "      \"multiply\",\n",
            "      \"*\"\n",
            "    ],\n",
            "    \"$\",\n",
            "    [\n",
            "      \"plus\",\n",
            "      \"+\"\n",
            "    ]\n",
            "  ],\n",
            "  \"R\": [\n",
            "    \"$\",\n",
            "    [\n",
            "      \"bracket\",\n",
            "      \")\"\n",
            "    ]\n",
            "  ],\n",
            "  \"T\": [\n",
            "    [\n",
            "      \"bracket\",\n",
            "      \")\"\n",
            "    ],\n",
            "    [\n",
            "      \"plus\",\n",
            "      \"+\"\n",
            "    ],\n",
            "    \"$\"\n",
            "  ],\n",
            "  \"Y\": [\n",
            "    [\n",
            "      \"plus\",\n",
            "      \"+\"\n",
            "    ],\n",
            "    \"$\",\n",
            "    [\n",
            "      \"bracket\",\n",
            "      \")\"\n",
            "    ]\n",
            "  ]\n",
            "}\n"
          ]
        }
      ]
    }
  ]
}